{
 "cells": [
  {
   "cell_type": "code",
   "execution_count": 52,
   "metadata": {},
   "outputs": [
    {
     "data": {
      "text/plain": [
       "{'Ordförande': ['PR', 'Bar', 'IT', 'Mat', 'Inventarie', 'Personal'],\n",
       " 'Lokal': ['PR', 'Bar', 'IT', 'Mat', 'Inventarie', 'Personal'],\n",
       " 'PR': ['Ordförande', 'Lokal', 'Bar', 'IT', 'Mat', 'Inventarie', 'Personal'],\n",
       " 'Bar': ['Ordförande', 'Lokal', 'PR', 'IT', 'Mat', 'Inventarie', 'Personal'],\n",
       " 'IT': ['Ordförande', 'Lokal', 'PR', 'Bar', 'Mat', 'Inventarie', 'Personal'],\n",
       " 'Mat': ['Ordförande', 'Lokal', 'PR', 'Bar', 'IT', 'Inventarie', 'Personal'],\n",
       " 'Inventarie': ['Ordförande', 'Lokal', 'PR', 'Bar', 'IT', 'Mat', 'Personal'],\n",
       " 'Personal': ['Ordförande', 'Lokal', 'PR', 'Bar', 'IT', 'Mat', 'Inventarie']}"
      ]
     },
     "execution_count": 52,
     "metadata": {},
     "output_type": "execute_result"
    }
   ],
   "source": [
    "data = []\n",
    "with open(\"participants_2022.txt\") as f:\n",
    "    data = f.read().replace(\" \", \"\")\n",
    "    \n",
    "users = data.split(\"\\n\")\n",
    "posts = set([y for x in users for y in x.split(\",\")])\n",
    "\n",
    "results = {}\n",
    "for post in posts:\n",
    "    results[post] = []\n",
    "    for user_posts in users:\n",
    "        if post in user_posts:\n",
    "            results[post] += (user_posts.split(\",\"))\n",
    "for post in results:\n",
    "    results[post] = list(set(results[post]))\n",
    "    results[post].remove(post)\n",
    "results"
   ]
  },
  {
   "cell_type": "code",
   "execution_count": 53,
   "metadata": {},
   "outputs": [
    {
     "data": {
      "text/plain": [
       "[['Ordförande', 'Lokal'], ['Lokal', 'Ordförande']]"
      ]
     },
     "execution_count": 53,
     "metadata": {},
     "output_type": "execute_result"
    }
   ],
   "source": [
    "possible_overlaps = []\n",
    "for post in results:\n",
    "    for x in results:\n",
    "        if x not in results[post] and x != post:\n",
    "            possible_overlaps.append([post, x])\n",
    "possible_overlaps"
   ]
  },
  {
   "cell_type": "code",
   "execution_count": 54,
   "metadata": {},
   "outputs": [
    {
     "name": "stdout",
     "output_type": "stream",
     "text": [
      "Possible overlap between Ordförande and Lokal\n"
     ]
    }
   ],
   "source": [
    "# find all unique sets in possible_overlaps\n",
    "unique_possible_overlaps = []\n",
    "for x in possible_overlaps:\n",
    "    if x not in unique_possible_overlaps and x[::-1] not in unique_possible_overlaps:\n",
    "        unique_possible_overlaps.append(x)\n",
    "\n",
    "for x in unique_possible_overlaps:\n",
    "    print(\"Possible overlap between {} and {}\".format(x[0], x[1]))"
   ]
  },
  {
   "cell_type": "code",
   "execution_count": null,
   "metadata": {},
   "outputs": [],
   "source": []
  }
 ],
 "metadata": {
  "kernelspec": {
   "display_name": "Python 3.10.6 64-bit",
   "language": "python",
   "name": "python3"
  },
  "language_info": {
   "codemirror_mode": {
    "name": "ipython",
    "version": 3
   },
   "file_extension": ".py",
   "mimetype": "text/x-python",
   "name": "python",
   "nbconvert_exporter": "python",
   "pygments_lexer": "ipython3",
   "version": "3.10.6"
  },
  "orig_nbformat": 4,
  "vscode": {
   "interpreter": {
    "hash": "b0fa6594d8f4cbf19f97940f81e996739fb7646882a419484c72d19e05852a7e"
   }
  }
 },
 "nbformat": 4,
 "nbformat_minor": 2
}
